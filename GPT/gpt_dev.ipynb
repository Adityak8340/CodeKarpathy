{
 "cells": [
  {
   "cell_type": "code",
   "execution_count": 1,
   "metadata": {},
   "outputs": [],
   "source": [
    "with open('dataset.txt', 'r', encoding='utf-8') as f:\n",
    "    text = f.read()"
   ]
  },
  {
   "cell_type": "code",
   "execution_count": 2,
   "metadata": {},
   "outputs": [
    {
     "name": "stdout",
     "output_type": "stream",
     "text": [
      "leght of dataset in characters:  172468245\n"
     ]
    }
   ],
   "source": [
    "print(\"leght of dataset in characters: \", len(text))"
   ]
  },
  {
   "cell_type": "code",
   "execution_count": 3,
   "metadata": {},
   "outputs": [
    {
     "name": "stdout",
     "output_type": "stream",
     "text": [
      "Title: प्रार्थना\n",
      "\n",
      "मेरे पाँव के पास चाँदनी बिछाओ भगवान !\n",
      "दूज के चाँद पर मुझे खड़ा करो\n",
      "किसी महाराजा के समान ।\n",
      "टखने डूबे हों चाँदनी में,\n",
      "\n",
      "मेरे मोजे मुलायम,चमकदार हों ;\n",
      "और मेरे मस्तक पर\n",
      "चाँदनी की झरती फुहार हो ।\n",
      "शीतलता पर इतराऊँ, चमक पर मचलूँ\n",
      "\n",
      "चाँदनी में तैरता हुआ मंजिल की ओर चलूँ ।\n",
      "क्योंकि सूरज काल हो गया है ।\n",
      "उसका चेहर शेर के समान लाल हो गया है ।\n",
      "2.  एकान्त\n",
      "\n",
      "लोग अकेलेपन की शिकायत करते हैं ।\n",
      "मैं समझ नहीं पाता ,\n",
      "वे किस बात से डरते हैं ।\n",
      "अकेलापन तो जीवन का चरम आनन्द है ।\n",
      "\n",
      "जो हैं निःसंग,\n",
      "सोचो तो, वही स्वच्छंद है ।\n",
      "अकेला होने पर जगते हैं विचार;\n",
      "ऊपर आती है उठकर\n",
      "\n",
      "अंधकार से नीली झंकार ।\n",
      "जो है अकेला,\n",
      "करता है अपना छोटा-मोटा काम,\n",
      "या लेता हुआ आराम,\n",
      "\n",
      "झाँक कर देखता है आगे की राह को,\n",
      "पहुँच से बाहर की दुनिया अथाह को;\n",
      "तत्वों के केन्द्र-बिन्दु से होकर एकतान\n",
      "बिना किसी बाधा के करता है ध्यान\n",
      "\n",
      "विषम के बीच छिपे सम का,\n",
      "अपने उदगम का ।\n",
      "3.  अकेलेपन का आनन्द\n",
      "अकेलेपन से बढ़कर\n",
      "\n",
      "आनन्द नहीं , आराम नहीं ।\n",
      "स्वर्ग है वह एकान्त,\n",
      "जहाँ शोर नहीं, धूमधाम नहीं ।\n",
      "देश और काल के प्रसार में,\n",
      "\n",
      "शून्यता, अशब्दता अपार में\n",
      "चाँद जब घूमता\n"
     ]
    }
   ],
   "source": [
    "# Let's see the first 1000 characters\n",
    "print(text[:1000])"
   ]
  },
  {
   "cell_type": "code",
   "execution_count": 4,
   "metadata": {},
   "outputs": [
    {
     "name": "stdout",
     "output_type": "stream",
     "text": [
      "\n",
      " !\"'()+,-.0123456789:;=?CTU[]aceilnost|¸ँंःअआइईउऊऋऎएऐओऔकखगघङचछजझञटठडढणतथदधनपफबभमयरलवशषसह़ऽािीुूृॄॅेैॉॊोौ्क़ग़ज़ड़ढ़फ़ॠ।॥०१२३४५६७८९॰‌‍–‘’“”…\n",
      "Number of unique characters:  134\n"
     ]
    }
   ],
   "source": [
    "# All the unique characters in the file\n",
    "chars = sorted(list(set(text)))\n",
    "vocab_size = len(chars)\n",
    "print(''.join(chars))\n",
    "print('Number of unique characters: ', vocab_size)\n"
   ]
  },
  {
   "cell_type": "code",
   "execution_count": 5,
   "metadata": {},
   "outputs": [
    {
     "name": "stdout",
     "output_type": "stream",
     "text": [
      "[85, 95, 75, 105, 81, 71, 91]\n",
      "शून्यता\n"
     ]
    }
   ],
   "source": [
    "# create a mapping of unique characters to integers\n",
    "stoi = {ch: i for i, ch in enumerate(chars)}\n",
    "itos = {i: ch for i, ch in enumerate(chars)}\n",
    "encode = lambda s: [stoi[c] for c in s]          # encoder: string -> list of integers\n",
    "decode = lambda x: ''.join([itos[i] for i in x]) # decoder: list of integers -> string\n",
    "\n",
    "print(encode('शून्यता'))\n",
    "print(decode(encode('शून्यता')))"
   ]
  },
  {
   "cell_type": "code",
   "execution_count": 6,
   "metadata": {},
   "outputs": [
    {
     "name": "stdout",
     "output_type": "stream",
     "text": [
      "torch.Size([172468245])\n",
      "tensor([ 26,  33,  38,  34,  32,  21,   1,  76, 105,  82,  91,  82, 105,  72,\n",
      "         75,  91,   0,   0,  80,  99,  82,  99,   1,  76,  91,  41,  84,   1,\n",
      "         56,  99,   1,  76,  91,  87,   1,  61,  91,  41,  73,  75,  93,   1,\n",
      "         78,  92,  62,  91,  54,   1,  79,  58,  84,  91,  75,   1,   2,   0,\n",
      "         73,  95,  63,   1,  56,  99,   1,  61,  91,  41,  73,   1,  76,  82,\n",
      "          1,  80,  94,  64,  99,   1,  57,  68,  89,  91,   1,  56,  82, 103,\n",
      "          0,  56,  92,  87,  93,   1,  80,  88,  91,  82,  91,  63,  91,   1,\n",
      "         56,  99,   1,  87,  80,  91,  75,   1, 113,   0,  66,  57,  75,  99,\n",
      "          1,  68,  95,  78,  99,   1,  88, 103,  42,   1,  61,  91,  41,  73,\n",
      "         75,  93,   1,  80,  99,  42,   8,   0,   0,  80,  99,  82,  99,   1,\n",
      "         80, 103,  63,  99,   1,  80,  94,  83,  91,  81,  80,   8,  61,  80,\n",
      "         56,  73,  91,  82,   1,  88, 103,  42,   1,  22,   0,  55,  82,   1,\n",
      "         80,  99,  82,  99,   1,  80,  87, 105,  71,  56,   1,  76,  82,   0,\n",
      "         61,  91,  41,  73,  75,  93,   1,  56,  93,   1,  64,  82,  71,  93,\n",
      "          1,  77,  94,  88,  91,  82,   1,  88, 103,   1, 113,   0,  85,  93,\n",
      "         71,  83,  71,  91,   1,  76,  82,   1,  46,  71,  82,  91,  49,  41,\n",
      "          8,   1,  61,  80,  56,   1,  76,  82,   1,  80,  61,  83,  95,  41,\n",
      "          0,   0,  61,  91,  41,  73,  75,  93,   1,  80,  99,  42,   1,  71,\n",
      "        100,  82,  71,  91,   1,  88,  94,  45,   1,  80,  42,  63,  92,  83,\n",
      "          1,  56,  93,   1,  54,  82,   1,  61,  83,  95,  41,   1, 113,   0,\n",
      "         56, 105,  81, 103,  42,  56,  92,   1,  87,  95,  82,  63,   1,  56,\n",
      "         91,  83,   1,  88, 103,   1,  58,  81,  91,   1,  88, 100,   1, 113,\n",
      "          0,  48,  87,  56,  91,   1,  61,  99,  88,  82,   1,  85,  99,  82,\n",
      "          1,  56,  99,   1,  87,  80,  91,  75,   1,  83,  91,  83,   1,  88,\n",
      "        103,   1,  58,  81,  91,   1,  88, 100,   1, 113,   0,  13,  10,   1,\n",
      "          1,  52,  56,  91,  75, 105,  71,   0,   0,  83, 103,  58,   1,  44,\n",
      "         56,  99,  83,  99,  76,  75,   1,  56,  93,   1,  85,  92,  56,  91,\n",
      "         81,  71,   1,  56,  82,  71,  99,   1,  88, 100,  42,   1, 113,   0,\n",
      "         80, 100,  42,   1,  87,  80,  64,   1,  75,  88,  93,  42,   1,  76,\n",
      "         91,  71,  91,   1,   8,   0,  84,  99,   1,  56,  92,  87,   1,  78,\n",
      "         91,  71,   1,  87,  99,   1,  68,  82,  71,  99,   1,  88, 100,  42,\n",
      "          1, 113,   0,  44,  56,  99,  83,  91,  76,  75,   1,  71, 103,   1,\n",
      "         63,  93,  84,  75,   1,  56,  91,   1,  61,  82,  80,   1,  45,  75,\n",
      "         75, 105,  73,   1,  88, 100,   1, 113,   0,   0,  63, 103,   1,  88,\n",
      "        100,  42,   1,  75,  92,  43,  87,  42,  58,   8,   0,  87, 103,  61,\n",
      "        103,   1,  71, 103,   8,   1,  84,  88,  93,   1,  87, 105,  84,  61,\n",
      "        105,  62,  42,  73,   1,  88, 100,   1, 113,   0,  44,  56,  99,  83,\n",
      "         91,   1,  88, 103,  75,  99,   1,  76,  82,   1,  63,  58,  71,  99,\n",
      "          1,  88, 100,  42,   1,  84,  92,  61,  91,  82,  22,   0,  49,  76,\n",
      "         82,   1,  45,  71,  93,   1,  88, 100,   1,  48,  67,  56,  82,   0,\n",
      "          0,  44,  42,  74,  56,  91,  82,   1,  87,  99,   1,  75,  93,  83,\n",
      "         93,   1,  64,  42,  56,  91,  82,   1, 113,   0,  63, 103,   1,  88,\n",
      "        100,   1,  44,  56,  99,  83,  91,   8,   0,  56,  82,  71,  91,   1,\n",
      "         88, 100,   1,  44,  76,  75,  91,   1,  62, 103,  66,  91,   9,  80,\n",
      "        103,  66,  91,   1,  56,  91,  80,   8,   0,  81,  91,   1,  83,  99,\n",
      "         71,  91,   1,  88,  94,  45,   1,  45,  82,  91,  80,   8,   0,   0,\n",
      "         64,  91,  41,  56,   1,  56,  82,   1,  73,  99,  57,  71,  91,   1,\n",
      "         88, 100,   1,  45,  58,  99,   1,  56,  93,   1,  82,  91,  88,   1,\n",
      "         56, 103,   8,   0,  76,  88,  94,  41,  61,   1,  87,  99,   1,  78,\n",
      "         91,  88,  82,   1,  56,  93,   1,  73,  94,  75,  92,  81,  91,   1,\n",
      "         44,  72,  91,  88,   1,  56, 103,  22,   0,  71,  71, 105,  84, 103,\n",
      "         42,   1,  56,  99,   1,  56,  99,  75, 105,  73, 105,  82,   9,  78,\n",
      "         92,  75, 105,  73,  94,   1,  87,  99,   1,  88, 103,  56,  82,   1,\n",
      "         52,  56,  71,  91,  75,   0,  78,  92,  75,  91,   1,  56,  92,  87,\n",
      "         93,   1,  78,  91,  74,  91,   1,  56,  99,   1,  56,  82,  71,  91,\n",
      "          1,  88, 100,   1,  74, 105,  81,  91,  75,   0,   0,  84,  92,  86,\n",
      "         80,   1,  56,  99,   1,  78,  93,  61,   1,  62,  92,  76,  99,   1,\n",
      "         87,  80,   1,  56,  91,   8,   0,  44,  76,  75,  99,   1,  48,  73,\n",
      "         58,  80,   1,  56,  91,   1, 113,   0,  14,  10,   1,   1,  44,  56,\n",
      "         99,  83,  99,  76,  75,   1,  56,  91,   1,  45,  75,  75, 105,  73,\n",
      "          0,  44,  56,  99,  83,  99,  76,  75,   1,  87,  99,   1,  78,  69,\n",
      "         89,  56,  82,   0,   0,  45,  75,  75, 105,  73,   1,  75,  88,  93,\n",
      "         42,   1,   8,   1,  45,  82,  91,  80,   1,  75,  88,  93,  42,   1,\n",
      "        113,   0,  87, 105,  84,  82, 105,  58,   1,  88, 100,   1,  84,  88,\n",
      "          1,  52,  56,  91,  75, 105,  71,   8,   0,  63,  88,  91,  41,   1,\n",
      "         85, 103,  82,   1,  75,  88,  93,  42,   8,   1,  74,  95,  80,  74,\n",
      "         91,  80,   1,  75,  88,  93,  42,   1, 113,   0,  73,  99,  85,   1,\n",
      "         55,  82,   1,  56,  91,  83,   1,  56,  99,   1,  76, 105,  82,  87,\n",
      "         91,  82,   1,  80,  99,  42,   8,   0,   0,  85,  95,  75, 105,  81,\n",
      "         71,  91,   8,   1,  44,  85,  78, 105,  73,  71,  91,   1,  44,  76,\n",
      "         91,  82,   1,  80,  99,  42,   0,  61,  91,  41,  73,   1,  63,  78,\n",
      "          1,  59,  95,  80,  71,  91])\n"
     ]
    }
   ],
   "source": [
    "# Let's encode the whole text\n",
    "import torch\n",
    "data = torch.tensor(encode(text), dtype=torch.long)\n",
    "print(data.size())\n",
    "print(data[:1000])        # the 1000 first characters, encoded as integers"
   ]
  },
  {
   "cell_type": "code",
   "execution_count": 7,
   "metadata": {},
   "outputs": [],
   "source": [
    "# Let's now split the data into training and validation sets\n",
    "n = int(0.9 * len(data))                        # 90% of the data for training and 10% for validation\n",
    "train_data, val_data = data[:n], data[n:]"
   ]
  },
  {
   "cell_type": "code",
   "execution_count": 8,
   "metadata": {},
   "outputs": [
    {
     "data": {
      "text/plain": [
       "'Title: प्'"
      ]
     },
     "execution_count": 8,
     "metadata": {},
     "output_type": "execute_result"
    }
   ],
   "source": [
    "block_size = 8                      # context length\n",
    "train_data[:block_size+1]\n",
    "decode(train_data[:block_size+1].tolist())"
   ]
  },
  {
   "cell_type": "code",
   "execution_count": 9,
   "metadata": {},
   "outputs": [
    {
     "name": "stdout",
     "output_type": "stream",
     "text": [
      "When input is tensor([26]), target is tensor([], dtype=torch.int64)\n",
      "When input is tensor([26, 33]), target is tensor([33])\n",
      "When input is tensor([26, 33, 38]), target is tensor([33, 38])\n",
      "When input is tensor([26, 33, 38, 34]), target is tensor([33, 38, 34])\n",
      "When input is tensor([26, 33, 38, 34, 32]), target is tensor([33, 38, 34, 32])\n",
      "When input is tensor([26, 33, 38, 34, 32, 21]), target is tensor([33, 38, 34, 32, 21])\n",
      "When input is tensor([26, 33, 38, 34, 32, 21,  1]), target is tensor([33, 38, 34, 32, 21,  1])\n",
      "When input is tensor([26, 33, 38, 34, 32, 21,  1, 76]), target is tensor([33, 38, 34, 32, 21,  1, 76])\n"
     ]
    }
   ],
   "source": [
    "x = train_data[:block_size]\n",
    "y = train_data[1:block_size+1]\n",
    "for t in range(block_size):\n",
    "    context, target = x[:t+1], y[:t]\n",
    "    # print(f\"When input is {decode(context.tolist())}, target is {decode(target.tolist())}\")         # uncomment to see the data\n",
    "    print(f\"When input is {context}, target is {target}\")\n",
    "    "
   ]
  },
  {
   "cell_type": "code",
   "execution_count": 10,
   "metadata": {},
   "outputs": [
    {
     "name": "stdout",
     "output_type": "stream",
     "text": [
      "inputs:\n",
      "torch.Size([4, 8])\n",
      "tensor([[ 91,  82,  91,   1,  85, 103,  70,  92],\n",
      "        [ 71,  94,  80, 105,  88,  91,  82,  91],\n",
      "        [ 91,  87,   8,   0,  75,   1,  56,  83],\n",
      "        [ 84,  75,   8,   1,  84,  92,  76,  92]])\n",
      "targets:\n",
      "torch.Size([4, 8])\n",
      "tensor([[ 82,  91,   1,  85, 103,  70,  92,  71],\n",
      "        [ 94,  80, 105,  88,  91,  82,  91,   1],\n",
      "        [ 87,   8,   0,  75,   1,  56,  83,  92],\n",
      "        [ 75,   8,   1,  84,  92,  76,  92,  75]])\n",
      "-----------------\n",
      "When input is [91], target is 82\n",
      "When input is [91, 82], target is 91\n",
      "When input is [91, 82, 91], target is 1\n",
      "When input is [91, 82, 91, 1], target is 85\n",
      "When input is [91, 82, 91, 1, 85], target is 103\n",
      "When input is [91, 82, 91, 1, 85, 103], target is 70\n",
      "When input is [91, 82, 91, 1, 85, 103, 70], target is 92\n",
      "When input is [91, 82, 91, 1, 85, 103, 70, 92], target is 71\n",
      "When input is [71], target is 94\n",
      "When input is [71, 94], target is 80\n",
      "When input is [71, 94, 80], target is 105\n",
      "When input is [71, 94, 80, 105], target is 88\n",
      "When input is [71, 94, 80, 105, 88], target is 91\n",
      "When input is [71, 94, 80, 105, 88, 91], target is 82\n",
      "When input is [71, 94, 80, 105, 88, 91, 82], target is 91\n",
      "When input is [71, 94, 80, 105, 88, 91, 82, 91], target is 1\n",
      "When input is [91], target is 87\n",
      "When input is [91, 87], target is 8\n",
      "When input is [91, 87, 8], target is 0\n",
      "When input is [91, 87, 8, 0], target is 75\n",
      "When input is [91, 87, 8, 0, 75], target is 1\n",
      "When input is [91, 87, 8, 0, 75, 1], target is 56\n",
      "When input is [91, 87, 8, 0, 75, 1, 56], target is 83\n",
      "When input is [91, 87, 8, 0, 75, 1, 56, 83], target is 92\n",
      "When input is [84], target is 75\n",
      "When input is [84, 75], target is 8\n",
      "When input is [84, 75, 8], target is 1\n",
      "When input is [84, 75, 8, 1], target is 84\n",
      "When input is [84, 75, 8, 1, 84], target is 92\n",
      "When input is [84, 75, 8, 1, 84, 92], target is 76\n",
      "When input is [84, 75, 8, 1, 84, 92, 76], target is 92\n",
      "When input is [84, 75, 8, 1, 84, 92, 76, 92], target is 75\n"
     ]
    }
   ],
   "source": [
    "torch.manual_seed(1337)\n",
    "batch_size = 4               # how many independent sequences to train on in parallel                 \n",
    "block_size = 8               # what is the context length for prediction\n",
    "\n",
    "def get_batch(split):\n",
    "    # generate a small batch of data of input x and targets y\n",
    "    data = train_data if split == 'train' else val_data\n",
    "    ix = torch.randint(len(data) - block_size, (batch_size,)) # starting index of each sequence\n",
    "    x = torch.stack([data[i:i+block_size] for i in ix])       # input sequences\n",
    "    y = torch.stack([data[i+1:i+block_size+1] for i in ix])   # target sequences, i.e. shifted by 1\n",
    "    return x, y\n",
    "    \n",
    "xb, yb = get_batch('train')\n",
    "print('inputs:')\n",
    "print(xb.shape)\n",
    "print(xb)                                                     \n",
    "# print(decode(xb[0].tolist()))\n",
    "print('targets:')\n",
    "print(yb.shape)\n",
    "print(yb)\n",
    "# print(decode(yb[0].tolist()))\n",
    "\n",
    "print('-----------------')\n",
    "\n",
    "for b in range(batch_size):                                     # iterate over batch dimension\n",
    "    for t in range(block_size):                                 # iterate over time dimension\n",
    "        context, target = xb[b, :t+1], yb[b, t]\n",
    "        print(f\"When input is {context.tolist()}, target is {target}\")\n",
    "        # print(f\"When input is {decode(context.tolist())}, target is {decode([target.tolist()])}\")"
   ]
  },
  {
   "cell_type": "code",
   "execution_count": 11,
   "metadata": {},
   "outputs": [
    {
     "name": "stdout",
     "output_type": "stream",
     "text": [
      "tensor([[ 91,  82,  91,   1,  85, 103,  70,  92],\n",
      "        [ 71,  94,  80, 105,  88,  91,  82,  91],\n",
      "        [ 91,  87,   8,   0,  75,   1,  56,  83],\n",
      "        [ 84,  75,   8,   1,  84,  92,  76,  92]])\n"
     ]
    }
   ],
   "source": [
    "print(xb)          # our input to the transformer"
   ]
  },
  {
   "cell_type": "code",
   "execution_count": 25,
   "metadata": {},
   "outputs": [
    {
     "name": "stdout",
     "output_type": "stream",
     "text": [
      "torch.Size([32, 134])\n",
      "tensor(5.2554, grad_fn=<NllLossBackward0>)\n",
      "\n",
      "ड़;'ौ३:म“ऎओa०]क़उनलह+अ”1४रभँ॥ढ…2ॅ२ँ२मeाूॄो4]एीण़्oॉcडह,क़¸;ब+ङॊग़Tञउ4८डढ…!‌अC1च?U ]धगफि¸इऔ=ग़९५6ौॄ|+लौ';इ\n"
     ]
    }
   ],
   "source": [
    "import torch\n",
    "import torch.nn as nn\n",
    "import torch.nn.functional as F\n",
    "torch.manual_seed(1337)\n",
    "\n",
    "class BigramLanguageModel(nn.Module):\n",
    "    \n",
    "    def __init__(self, vocab_size):\n",
    "        super().__init__()\n",
    "        # each token directly reads off the logits for the next token from a lookup table\n",
    "        self.token_embedding_table = nn.Embedding(vocab_size, vocab_size)\n",
    "\n",
    "    def forward(self, idx, targets=None):\n",
    "        # idx and targets are both (B, T) Tensor of integers\n",
    "        logits = self.token_embedding_table(idx)               # (B, T, C)\n",
    "\n",
    "        if targets is None:\n",
    "            loss = None\n",
    "        else:\n",
    "            B, T, C = logits.shape\n",
    "            logits = logits.view(B*T, C)                       # (B*T, C)\n",
    "            targets = targets.view(-1)                         # (B*T,)\n",
    "            loss = F.cross_entropy(logits, targets)\n",
    "        return logits, loss\n",
    "    \n",
    "    def generate(self, idx, max_new_tokens):\n",
    "        # idx is a (B, T) array of indices in the current context\n",
    "        for _ in range(max_new_tokens):\n",
    "            # get the predictions\n",
    "            logits, loss = self(idx)\n",
    "            # focus only on last time step\n",
    "            logits = logits[:, -1, :]                            # (B, C)\n",
    "            #apply softmax to get probabilities\n",
    "            probs = F.softmax(logits, dim=-1)                    # (B, C)\n",
    "            # sample from the distribution\n",
    "            idx_next = torch.multinomial(probs, num_samples=1)   # (B, 1)\n",
    "            # append sampled index to the running_sequence\n",
    "            idx = torch.cat([idx, idx_next], dim=1)              # (B, T+1)\n",
    "        return idx\n",
    "\n",
    "m = BigramLanguageModel(vocab_size)\n",
    "logits, loss = m(xb, yb)\n",
    "print(logits.shape) # should be (B, T, C)\n",
    "print(loss)\n",
    "print(decode(m.generate(idx = torch.zeros((1, 1), dtype=torch.long), max_new_tokens=100).tolist()[0]))"
   ]
  },
  {
   "cell_type": "code",
   "execution_count": 24,
   "metadata": {},
   "outputs": [
    {
     "name": "stdout",
     "output_type": "stream",
     "text": [
      "Expected loss: 4.897839799950911\n"
     ]
    }
   ],
   "source": [
    "import math\n",
    "print(f\"Expected loss: {math.log(vocab_size)}\")  # the model is untrained, so it should be around log(vocab_size)"
   ]
  },
  {
   "cell_type": "code",
   "execution_count": 26,
   "metadata": {},
   "outputs": [],
   "source": [
    "# create a PyTorch optimizer\n",
    "optimizer = torch.optim.Adam(m.parameters(), lr=1e-3)"
   ]
  },
  {
   "cell_type": "code",
   "execution_count": 32,
   "metadata": {},
   "outputs": [
    {
     "name": "stdout",
     "output_type": "stream",
     "text": [
      "2.545403003692627\n"
     ]
    }
   ],
   "source": [
    "batch_size = 32\n",
    "for steps in range(10000):\n",
    "\n",
    "    # sample a batch of data\n",
    "    xb, yb = get_batch('train')\n",
    "\n",
    "    # evaluate the loss\n",
    "    logits, loss = m(xb, yb)\n",
    "    optimizer.zero_grad(set_to_none=True)\n",
    "    loss.backward()\n",
    "    optimizer.step()\n",
    "\n",
    "print(loss.item())"
   ]
  },
  {
   "cell_type": "code",
   "execution_count": 43,
   "metadata": {},
   "outputs": [
    {
     "name": "stdout",
     "output_type": "stream",
     "text": [
      "\n",
      "हमान ह सें-सन-से अबनुं द-तन!\n",
      "\n",
      "वहे हुदी क बनीं।\n",
      "समा से की सबसरुम्पनव धिधुछवतवि वि क बिसाँ\n",
      "मुओरी मैंत डो पन?\n",
      "ता ई जन त इधर आतेखड़ कोईमाण धम हाएगलोंछविगे लन्षण्रो ओरो आन भी हमौनहो मेनें रमे थकमा बा जग हैं दनाती।\n",
      "आँखत नरिही जबै जे जगृद में सो हार जल अबा पन्द्वि हलति जो\n",
      "\n",
      "जर मे विट, क मायाप्दर्लासं है\n",
      "नहं मेगण कुहैं\n",
      "जयमै तें प्तन्युँ जां ला मे हा खड़ी है, बी हु र की क भूल कतमा री भयत दुका,\n",
      "१९’ है\n",
      "खोनीवर,\n",
      "हँखो जा,\n",
      "मलनोतत हुट पहै।\n",
      "सुगईश ।\n",
      "कहो नी ह य थ्रमगत नदर ?\n",
      "भरिरालोटि वर तन ती,\n",
      "रहा देशाहै ज ब-मिती मे\n"
     ]
    }
   ],
   "source": [
    "print(decode(m.generate(idx = torch.zeros((1, 1), dtype=torch.long), max_new_tokens=500).tolist()[0]))"
   ]
  },
  {
   "cell_type": "markdown",
   "metadata": {},
   "source": [
    "## The mathematical trick in self-attention"
   ]
  },
  {
   "cell_type": "code",
   "execution_count": 45,
   "metadata": {},
   "outputs": [
    {
     "name": "stdout",
     "output_type": "stream",
     "text": [
      "torch.Size([4, 8, 2])\n"
     ]
    }
   ],
   "source": [
    "# consider the following example\n",
    "\n",
    "torch.manual_seed(1337)\n",
    "B, T, C = 4, 8, 2        # batch, time, channels\n",
    "x = torch.randn(B, T, C) # random input\n",
    "# print(x)\n",
    "print(x.shape)"
   ]
  },
  {
   "cell_type": "code",
   "execution_count": 46,
   "metadata": {},
   "outputs": [],
   "source": [
    "# We want x[b, t] = mean_{i<=t} x[b, i]\n",
    "xbow = torch.zeros((B, T, C))            # Bag of Words\n",
    "for b in range(B):\n",
    "    for t in range(T):\n",
    "        xprev = x[b, :t+1]               # (t, C)\n",
    "        xbow[b, t] = torch.mean(xprev, dim=0)"
   ]
  },
  {
   "cell_type": "code",
   "execution_count": 58,
   "metadata": {},
   "outputs": [
    {
     "data": {
      "text/plain": [
       "True"
      ]
     },
     "execution_count": 58,
     "metadata": {},
     "output_type": "execute_result"
    }
   ],
   "source": [
    "wei = torch.tril(torch.ones(T, T))\n",
    "wei = wei / wei.sum(1, keepdim=True)\n",
    "xbow2 = wei @ x                      # (B, T, T) @ (B, T, C) ----> (B, T, C)\n",
    "torch.allclose(xbow, xbow2, atol=1e-6)  "
   ]
  },
  {
   "cell_type": "code",
   "execution_count": 47,
   "metadata": {},
   "outputs": [
    {
     "data": {
      "text/plain": [
       "tensor([[ 0.1808, -0.0700],\n",
       "        [-0.3596, -0.9152],\n",
       "        [ 0.6258,  0.0255],\n",
       "        [ 0.9545,  0.0643],\n",
       "        [ 0.3612,  1.1679],\n",
       "        [-1.3499, -0.5102],\n",
       "        [ 0.2360, -0.2398],\n",
       "        [-0.9211,  1.5433]])"
      ]
     },
     "execution_count": 47,
     "metadata": {},
     "output_type": "execute_result"
    }
   ],
   "source": [
    "x[0]"
   ]
  },
  {
   "cell_type": "code",
   "execution_count": 48,
   "metadata": {},
   "outputs": [
    {
     "data": {
      "text/plain": [
       "tensor([[ 0.1808, -0.0700],\n",
       "        [-0.0894, -0.4926],\n",
       "        [ 0.1490, -0.3199],\n",
       "        [ 0.3504, -0.2238],\n",
       "        [ 0.3525,  0.0545],\n",
       "        [ 0.0688, -0.0396],\n",
       "        [ 0.0927, -0.0682],\n",
       "        [-0.0341,  0.1332]])"
      ]
     },
     "execution_count": 48,
     "metadata": {},
     "output_type": "execute_result"
    }
   ],
   "source": [
    "xbow[0]"
   ]
  },
  {
   "cell_type": "code",
   "execution_count": null,
   "metadata": {},
   "outputs": [
    {
     "name": "stdout",
     "output_type": "stream",
     "text": [
      "a=\n",
      "tensor([[1.0000, 0.0000, 0.0000],\n",
      "        [0.5000, 0.5000, 0.0000],\n",
      "        [0.3333, 0.3333, 0.3333]])\n",
      "---------------------------\n",
      "b=\n",
      "tensor([[5., 7.],\n",
      "        [2., 0.],\n",
      "        [5., 3.]])\n",
      "---------------------------\n",
      "c=\n",
      "tensor([[5.0000, 7.0000],\n",
      "        [3.5000, 3.5000],\n",
      "        [4.0000, 3.3333]])\n"
     ]
    }
   ],
   "source": [
    "torch.manual_seed(1337)\n",
    "# a = torch.ones(3, 3)\n",
    "a = torch.tril(torch.ones(3, 3))                 # lower triangular matrix\n",
    "a = a / torch.sum(a, dim=1, keepdim=True)         # row-stochastic matrix (rows sum to 1)  \n",
    "b = torch.randint(0, 10, (3,2)).float()\n",
    "c = a @ b\n",
    "print('a=')\n",
    "print(a)\n",
    "print('---------------------------')\n",
    "print('b=')\n",
    "print(b)\n",
    "print('---------------------------')\n",
    "print('c=')\n",
    "print(c)"
   ]
  },
  {
   "cell_type": "code",
   "execution_count": 53,
   "metadata": {},
   "outputs": [],
   "source": [
    "# Why we did this?\n",
    "# We want to compute the running average of the input sequence. This is a common operation in many models,\n",
    "# and we can use the lower triangular matrix to do this efficiently."
   ]
  },
  {
   "cell_type": "code",
   "execution_count": null,
   "metadata": {},
   "outputs": [],
   "source": []
  }
 ],
 "metadata": {
  "kernelspec": {
   "display_name": "karpathy",
   "language": "python",
   "name": "python3"
  },
  "language_info": {
   "codemirror_mode": {
    "name": "ipython",
    "version": 3
   },
   "file_extension": ".py",
   "mimetype": "text/x-python",
   "name": "python",
   "nbconvert_exporter": "python",
   "pygments_lexer": "ipython3",
   "version": "3.10.16"
  }
 },
 "nbformat": 4,
 "nbformat_minor": 2
}
